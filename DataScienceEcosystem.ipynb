{
 "cells": [
  {
   "cell_type": "markdown",
   "id": "740f620e-d2d0-4a9f-9212-5117d624e780",
   "metadata": {},
   "source": [
    "# 1. Data Science Tools and Ecosystem"
   ]
  },
  {
   "cell_type": "markdown",
   "id": "e373bd0f-c1d8-473c-88de-819406ab563c",
   "metadata": {},
   "source": [
    "In this notebook, Data Science Tools and Ecosystem are summarized."
   ]
  },
  {
   "cell_type": "markdown",
   "id": "dccd4dc7-625a-4647-a89e-8a58c1cd4032",
   "metadata": {},
   "source": [
    "Some of the popular languages that Data Scientists use are:\n",
    "1. Python\n",
    "2. R language\n",
    "3. Java\n",
    "4. Roby"
   ]
  },
  {
   "cell_type": "markdown",
   "id": "991af009-1d2e-4859-a1db-5ac415e15e9f",
   "metadata": {},
   "source": [
    "Some of the commonly used libraries used by Data Scientists include:\n",
    "1. Pandas\n",
    "2. Numpy\n",
    "3. Tensorflow\n",
    "4. Seaborn\n",
    "5. Matiplotlib\n",
    "6. Scikit-learn\n",
    "7. PyTorch"
   ]
  },
  {
   "cell_type": "markdown",
   "id": "2ee7043e-9b60-4bbc-9be1-580220285934",
   "metadata": {},
   "source": [
    "# 2. Data Science Tools\n",
    "Jupyter Notebook, \n",
    "Spyder, \n",
    "Visual Studio Code"
   ]
  },
  {
   "cell_type": "markdown",
   "id": "b7984a68-5c9e-46fb-bb6d-327cb3951550",
   "metadata": {},
   "source": [
    "# 3. Below are a few examples of evaluating arithmetic expressions in Python"
   ]
  },
  {
   "cell_type": "code",
   "execution_count": 3,
   "id": "ad9c37d5-0483-4b42-838d-d974106552cb",
   "metadata": {},
   "outputs": [
    {
     "name": "stdout",
     "output_type": "stream",
     "text": [
      "17\n"
     ]
    }
   ],
   "source": [
    "# This a simple arithmetic expression to multiply and then add integers.\n",
    "exp = (3*4)+5\n",
    "print(exp)"
   ]
  },
  {
   "cell_type": "code",
   "execution_count": 8,
   "id": "b98ae1c9-c8a0-47c8-a80d-d296da903bd7",
   "metadata": {},
   "outputs": [
    {
     "name": "stdout",
     "output_type": "stream",
     "text": [
      "3.333\n"
     ]
    }
   ],
   "source": [
    "# This will convert 200 minutes to hours by diving by 60\n",
    "min=200\n",
    "hru= round(min/60,3)\n",
    "print(hru)"
   ]
  },
  {
   "cell_type": "markdown",
   "id": "a5555b90-cf92-490f-9645-c086de8dd0ac",
   "metadata": {},
   "source": [
    "OBJECTIVES:\n",
    "1. list the popular languages for the Data Science: Python, R, SQL, Ruby, Java, and Julia. Each has unique strengths and is used for specific tasks\n",
    "within the Data Science work flow.\n",
    "2. Understand the Data Science workflow: Data acquisition and cleaning to analysis, visualization, and Model Building. This provided a framework for apply\n",
    "languages and tools effectively.\n",
    "3. Perform basic data manipulations: We practiced essential data manipulation techniques like filtering, sorting, aggregating, and transforming data sets using tools like NumPy and Pandas in Python. These skills are crucial for preparing data for analysis and modeling.\n",
    "4. Visualize data insights: We learned how to create informative and compelling data visualizations using libraries like Matplotlib and Seaborn. This enables effective communication of findings and storytelling with data."
   ]
  },
  {
   "cell_type": "markdown",
   "id": "dfd835ac-849a-4aac-a45a-0dcb5ed0d2aa",
   "metadata": {},
   "source": [
    "Jawad Ali\n",
    "\n",
    "Author"
   ]
  },
  {
   "cell_type": "code",
   "execution_count": null,
   "id": "f32988ed-7213-4d37-8ed4-4e66d317c9a4",
   "metadata": {},
   "outputs": [],
   "source": []
  }
 ],
 "metadata": {
  "kernelspec": {
   "display_name": "Python 3 (ipykernel)",
   "language": "python",
   "name": "python3"
  },
  "language_info": {
   "codemirror_mode": {
    "name": "ipython",
    "version": 3
   },
   "file_extension": ".py",
   "mimetype": "text/x-python",
   "name": "python",
   "nbconvert_exporter": "python",
   "pygments_lexer": "ipython3",
   "version": "3.11.5"
  }
 },
 "nbformat": 4,
 "nbformat_minor": 5
}
